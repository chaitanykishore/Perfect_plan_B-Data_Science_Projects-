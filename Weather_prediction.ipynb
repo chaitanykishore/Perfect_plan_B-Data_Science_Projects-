{
  "nbformat": 4,
  "nbformat_minor": 0,
  "metadata": {
    "colab": {
      "provenance": [],
      "collapsed_sections": [],
      "authorship_tag": "ABX9TyPkri/O/lpFX/ICZIoteiSI",
      "include_colab_link": true
    },
    "kernelspec": {
      "name": "python3",
      "display_name": "Python 3"
    },
    "language_info": {
      "name": "python"
    }
  },
  "cells": [
    {
      "cell_type": "markdown",
      "metadata": {
        "id": "view-in-github",
        "colab_type": "text"
      },
      "source": [
        "<a href=\"https://colab.research.google.com/github/chaitanykishore/Perfect_plan_B-Data_Science_Projects-/blob/main/Weather_prediction.ipynb\" target=\"_parent\"><img src=\"https://colab.research.google.com/assets/colab-badge.svg\" alt=\"Open In Colab\"/></a>"
      ]
    },
    {
      "cell_type": "markdown",
      "source": [
        "**Weather_prediction_using-Naive_Bayes**(CHAITANYA KISHORE)"
      ],
      "metadata": {
        "id": "fR8GjPDj4XO-"
      }
    },
    {
      "cell_type": "code",
      "execution_count": 1,
      "metadata": {
        "id": "AJB1AnU64Ssw"
      },
      "outputs": [],
      "source": [
        "#NaiveBayes Project (Weather prediction)\n",
        "#Required Modules\n",
        "import pandas as pd\n",
        "from sklearn.preprocessing import LabelEncoder\n",
        "from sklearn.naive_bayes import GaussianNB"
      ]
    },
    {
      "cell_type": "code",
      "source": [
        "#Reading csv files\n",
        "df = pd.read_csv(\"weather_dataset.csv\")\n",
        "df"
      ],
      "metadata": {
        "id": "yU9cO4X75-vt"
      },
      "execution_count": null,
      "outputs": []
    },
    {
      "cell_type": "code",
      "source": [
        "#Encoding the strings to numerical\n",
        "numerics=LabelEncoder()"
      ],
      "metadata": {
        "id": "PLHtueR1658T"
      },
      "execution_count": null,
      "outputs": []
    },
    {
      "cell_type": "code",
      "source": [
        "#Dropping the target variable and make it is as newframe\n",
        "inputs = df.drop('play',axis='columns')\n",
        "target=df['play']\n",
        "target"
      ],
      "metadata": {
        "id": "8ci_AJqn7Mpu"
      },
      "execution_count": null,
      "outputs": []
    },
    {
      "cell_type": "code",
      "source": [
        "#Creating a new dataframe\n",
        "inputs['outllok_n']= outlook_at.fit_transform(inputs['Outlook'])\n",
        "inputs['Temp_n']= outlook_at.fit_transform(inputs['Temp'])\n",
        "inputs['Hum_n']= outlook_at.fit_transform(inputs['Humidity'])\n",
        "inputs['win_n']= outlook_at.fit_transform(inputs['windy'])\n",
        "inputs\n"
      ],
      "metadata": {
        "id": "37TkI0Og7hAx"
      },
      "execution_count": null,
      "outputs": []
    },
    {
      "cell_type": "code",
      "source": [
        "#Droping the string values\n",
        "input_n=inputs.drop(['Outlook','Temp','Humidity','Windy'],axis='columns')\n",
        "input_n"
      ],
      "metadata": {
        "id": "ilyP3oOW8sz6"
      },
      "execution_count": null,
      "outputs": []
    },
    {
      "cell_type": "code",
      "source": [
        "#Applying the Gaussian naivebayes\n",
        "classifier = GaussianNB()\n",
        "classifier.fit(input_n,target)"
      ],
      "metadata": {
        "id": "unvVjd6G9blx"
      },
      "execution_count": null,
      "outputs": []
    },
    {
      "cell_type": "code",
      "source": [
        "#85% accuracy\n",
        "calssifier.score(inputs_n,target)"
      ],
      "metadata": {
        "id": "IpNTciPt9yCu"
      },
      "execution_count": null,
      "outputs": []
    },
    {
      "cell_type": "code",
      "source": [
        "#prediction\n",
        "classifier.predict([[0,0,0,1]])\n"
      ],
      "metadata": {
        "id": "mhToLQep98Vl"
      },
      "execution_count": null,
      "outputs": []
    }
  ]
}