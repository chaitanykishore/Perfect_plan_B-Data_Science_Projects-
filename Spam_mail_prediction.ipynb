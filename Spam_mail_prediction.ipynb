{
  "nbformat": 4,
  "nbformat_minor": 0,
  "metadata": {
    "colab": {
      "provenance": [],
      "collapsed_sections": [],
      "mount_file_id": "1B3tctySJUpGm_27Y4PZF_jvgul9mNXfo",
      "authorship_tag": "ABX9TyNfIHe6WTgfVZIIYXiCg3wd",
      "include_colab_link": true
    },
    "kernelspec": {
      "name": "python3",
      "display_name": "Python 3"
    },
    "language_info": {
      "name": "python"
    }
  },
  "cells": [
    {
      "cell_type": "markdown",
      "metadata": {
        "id": "view-in-github",
        "colab_type": "text"
      },
      "source": [
        "<a href=\"https://colab.research.google.com/github/chaitanykishore/Perfect_plan_B-Data_Science_Projects-/blob/main/Spam_mail_prediction.ipynb\" target=\"_parent\"><img src=\"https://colab.research.google.com/assets/colab-badge.svg\" alt=\"Open In Colab\"/></a>"
      ]
    },
    {
      "cell_type": "markdown",
      "source": [
        " **Spam Mail Prediction Using Support Vector Machine** (chaitanya kishore)\n",
        " "
      ],
      "metadata": {
        "id": "pPxt9IKkaJ2i"
      }
    },
    {
      "cell_type": "code",
      "source": [
        "#Import libraries\n",
        "import pandas as pd\n",
        "import numpy as np\n",
        "from sklearn.model_selection import train_test_split\n",
        "from sklearn.feature_extraction.text import TfidfVectorizer\n",
        "from sklearn.svm import LinearSVC\n",
        "from sklearn.metrics import accuracy_score"
      ],
      "metadata": {
        "id": "6SASDU9e-y2f"
      },
      "execution_count": null,
      "outputs": []
    },
    {
      "cell_type": "markdown",
      "source": [
        "**Data preprocessing**"
      ],
      "metadata": {
        "id": "OyhRYrQpBYH-"
      }
    },
    {
      "cell_type": "code",
      "source": [
        "#load the dataset to pandas data frame\n",
        "raw_mail_data = pd.read_csv('/content/spam.csv')\n",
        "#replace the null value with null string \n",
        "mail_data=raw_mail_data.where((pd.notnull(raw_mail_data)), '')\n"
      ],
      "metadata": {
        "id": "ERB2z3VVBXt8"
      },
      "execution_count": null,
      "outputs": []
    },
    {
      "cell_type": "code",
      "source": [
        "mail_data.shape #sample data"
      ],
      "metadata": {
        "id": "PoQmZul_Cajs"
      },
      "execution_count": null,
      "outputs": []
    },
    {
      "cell_type": "code",
      "source": [
        "mail_data.head()"
      ],
      "metadata": {
        "id": "A6IjtK6DCfUj"
      },
      "execution_count": null,
      "outputs": []
    },
    {
      "cell_type": "code",
      "source": [
        "#label spam mail as 0; non spam mail (ham) mail as 1.\n",
        "mail_data.loc[mail_data['cotegory']]=='spam','cotegory',]=0\n",
        "mail_data.loc[mail_data['cotegory']]=='ham','cotegory',]=1"
      ],
      "metadata": {
        "id": "H1Rs67wHDlWu"
      },
      "execution_count": null,
      "outputs": []
    },
    {
      "cell_type": "code",
      "source": [
        "#seperate the data as text and label.x---->text; y-----> label\n",
        "x=mail_data['message']\n",
        "y=mail_data['cotegory']"
      ],
      "metadata": {
        "id": "SxqJ1PYdEQ-R"
      },
      "execution_count": null,
      "outputs": []
    },
    {
      "cell_type": "code",
      "source": [
        "print(x)\n",
        "print(\".............\")\n",
        "print(y)"
      ],
      "metadata": {
        "id": "0klNpozkEhm0"
      },
      "execution_count": null,
      "outputs": []
    },
    {
      "cell_type": "markdown",
      "source": [
        "**Train Test Split**"
      ],
      "metadata": {
        "id": "3Ll7ADnOEwv1"
      }
    },
    {
      "cell_type": "code",
      "source": [
        "#SPLIT THE DATA AS TRAIN AND TEST DATA\n",
        "x_train,x_test,y_train,y_test=train_test_split(x,y,train_size=0.8,test_size=0.2,random_size=3)"
      ],
      "metadata": {
        "id": "_RF3JwZaE5Dq"
      },
      "execution_count": null,
      "outputs": []
    },
    {
      "cell_type": "markdown",
      "source": [
        "**Feature Extraction**"
      ],
      "metadata": {
        "id": "mFapDl31FT47"
      }
    },
    {
      "cell_type": "code",
      "source": [
        "#transform the text data to feature vectors that can be used as input to the SVM model using TfidfVectorizer\n",
        "#covert the text to lower case\n",
        "feature_extraction=TfidfVectorizer(min_df=1,stop_word='english',lower_case='True')\n",
        "x_train_features=feature_extraction.fittransform(x_train)\n",
        "x_test_features=feature_extraction.transform(x_test)\n",
        " \n",
        " #convert y_train and y_test values as imtegers\n",
        " y_train=y_train.astype('int')\n",
        " y_test=y_testastype('int')"
      ],
      "metadata": {
        "id": "f8b8l84jFdkH"
      },
      "execution_count": null,
      "outputs": []
    },
    {
      "cell_type": "markdown",
      "source": [
        "**Training the model -----> support vector machine**"
      ],
      "metadata": {
        "id": "TLOtG5Z8SEc1"
      }
    },
    {
      "cell_type": "code",
      "source": [
        "#training the support vector machine model with training set\n",
        "model=LinearSVC()\n",
        "model.fit(x_train_features,y_train)"
      ],
      "metadata": {
        "id": "Q_veRUYNSC5w"
      },
      "execution_count": null,
      "outputs": []
    },
    {
      "cell_type": "markdown",
      "source": [
        "**Evaluation on  model**"
      ],
      "metadata": {
        "id": "afaTMoNES6hT"
      }
    },
    {
      "cell_type": "code",
      "source": [
        "#prediction on data\n",
        "prediction_on_training_data=model.predict(x_train_features)\n",
        "accuracy_on_training_data=accuracy_score(y_train,prediction_on_training_data)"
      ],
      "metadata": {
        "id": "Ox_xGAPDS29f"
      },
      "execution_count": null,
      "outputs": []
    },
    {
      "cell_type": "code",
      "source": [
        "print('Accuracy on training data:',accuracy_on_training_data)"
      ],
      "metadata": {
        "id": "9muf6kcpTi6x"
      },
      "execution_count": null,
      "outputs": []
    },
    {
      "cell_type": "code",
      "source": [
        "#prediction on test data\n",
        "prediction_on_test_data = model.predict(x_test_features)\n",
        "accuracy_on_test = accuracy_score(y_test,prediction_on_test_data)"
      ],
      "metadata": {
        "id": "6LI7bn7OTwe9"
      },
      "execution_count": null,
      "outputs": []
    },
    {
      "cell_type": "code",
      "source": [
        "print('Accuracy on test data:',accuracy_on_test_data)"
      ],
      "metadata": {
        "id": "EcgnEAN_USdV"
      },
      "execution_count": null,
      "outputs": []
    },
    {
      "cell_type": "markdown",
      "source": [
        "**prediction on new mail**"
      ],
      "metadata": {
        "id": "wskQ8LEmUgIf"
      }
    },
    {
      "cell_type": "code",
      "source": [
        "input_mail = [\"\"]\n",
        "#covert text to feature vectors\n",
        "input_mail_feature=feature_extraction.transformation(input_mail)\n",
        "\n",
        "#making prediction\n",
        "prediction = model.predict(input_mail_features)\n",
        "print(prediction)\n",
        "\n",
        "if (prediction[0]==1):\n",
        "  print(\"HAM MAIL\")\n",
        "else:\n",
        "  print(\"SPAM MAIL\")\n",
        "\n"
      ],
      "metadata": {
        "id": "Ov8DybJ1UeUH"
      },
      "execution_count": null,
      "outputs": []
    }
  ]
}