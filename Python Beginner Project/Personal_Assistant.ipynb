{
  "nbformat": 4,
  "nbformat_minor": 0,
  "metadata": {
    "colab": {
      "provenance": [],
      "collapsed_sections": []
    },
    "kernelspec": {
      "name": "python3",
      "display_name": "Python 3"
    },
    "language_info": {
      "name": "python"
    }
  },
  "cells": [
    {
      "cell_type": "markdown",
      "source": [
        "**Personal Assistant** (chaitanya kishore)"
      ],
      "metadata": {
        "id": "C47bcyyg3aec"
      }
    },
    {
      "cell_type": "code",
      "source": [
        "#Necessary pip installation requires are\n",
        "!pip install comtypes\n",
        " !pip install pyttsx3\n",
        " !pip install speechRecognition\n",
        " !pip install wikipedia\n",
        " !pip install webbrowser\n",
        " !pip install pipwin\n",
        " !pip install PyAudio"
      ],
      "metadata": {
        "id": "BD20kpCJyAu2"
      },
      "execution_count": null,
      "outputs": []
    },
    {
      "cell_type": "code",
      "source": [
        "#Importing libraries\n",
        "import pyttsx3\n",
        "import speech_recognition as sr\n",
        "import datetime\n",
        "import wikipedia\n",
        "import webbrowser\n",
        "import os\n",
        "import sys"
      ],
      "metadata": {
        "id": "JoZBreQ4xxSx"
      },
      "execution_count": 4,
      "outputs": []
    },
    {
      "cell_type": "code",
      "source": [
        "#using api for giving laptop a voice \n",
        "engine=pyttsx3.init('sapi5')\n",
        "voices=engine.getProperty('voices')\n",
        "# print(voices[1].id)\n",
        "engine.setProperty('voices',voices[1].id)"
      ],
      "metadata": {
        "id": "8TbTVhKtzHIV"
      },
      "execution_count": null,
      "outputs": []
    },
    {
      "cell_type": "code",
      "execution_count": null,
      "metadata": {
        "id": "apirn8BLr2XY"
      },
      "outputs": [],
      "source": [
        "def speak(audio):\n",
        "    engine.say(audio)\n",
        "    engine.runAndWait()\n",
        "def wishme(datetime):\n",
        "    hour = int(datetime.datetime.now().hour)\n",
        "    if hour>=0 and hour<12:\n",
        "        speak(\"good morning\")\n",
        "    elif hour>12 and hour<18:\n",
        "        speak(\"good afternoon\")\n",
        "    else:\n",
        "        speak(\"good evening\")\n",
        "    speak(\"please let me know how can i help you\")\n",
        "def takecommand():\n",
        "    # it take a microphone input from the user and returns string output\n",
        "    r =sr.Recognizer()\n",
        "    with sr.Microphone() as source:\n",
        "         print(\"listening.....\")\n",
        "         r.pause_threshold  = 1\n",
        "         audio=r.listen(source)\n",
        "    try:\n",
        "        print(\"recognizing.....\")\n",
        "        query = r.recognize_google(audio,language=\"en-in\")\n",
        "        print(\"user said:query\")\n",
        "    except Exception as e:\n",
        "        print(e)\n",
        "        speak(\"say that again please....\")\n",
        "        return \"none\"\n",
        "    return query\n",
        "if __name__=='__main__':\n",
        "    #speak(\"Python is a high-level, general-purpose programming language.\")\n",
        "    wishme(datetime)\n",
        "    #while true:\n",
        "    if 1:\n",
        "        query = takecommand().lower()\n",
        "    \n",
        "        if 'wikipedia'in query:\n",
        "\t        speak(\"Searching wikipedia......please wait for a while\")\n",
        "\t        query=query.replace(\"wikipedia\",\"\")\n",
        "\t        results=wikipedia.summary(query,sentences=2)\n",
        "\t        speak=(\"According to wikipedia\")\n",
        "\t        print(results)\n",
        "            #speak(results)\n",
        "\n",
        "        elif 'open youtube'in query:\n",
        "            webbrowser.open(\"youtube.com\")\n",
        "\n",
        "        elif 'open google'in query:\n",
        "            webbrowser.open(\"google.com\")\n",
        "\n",
        "        elif 'open notepad'in query:\n",
        "            npath ='C:\\ProgramData\\Microsoft\\Windows\\Start Menu\\Programs\\Accessories'\n",
        "            os.startfile(npath)\n",
        "\n",
        "        elif 'open command prompt'in query:\n",
        "            os.system('stsrt cmd')\n",
        "\n",
        "        elif'open stackoverflow' in query:\n",
        "            webbrowser.open(\"stackoverflow.com\")\n",
        "\n",
        "        elif'open calender' in query:\n",
        "            webbrowser.open(\"calender.com\")\n",
        "\n",
        "        elif'open code'in query:\n",
        "            codepath =\"C:\\\\users\\\\Rudra Trade\\\\appdata\\\\local\\\\programs\\\\microsoft vs code\\\\code.exe\"\n",
        "            os.startfile(codepath)\n",
        "  \n",
        "        elif 'time' in query:\n",
        "            strTime = datetime.datetime.now().strftime(\"%h:%m:%S\")\n",
        "            speak(f\"mam the time is{strTime}\")\n",
        "\n",
        "        elif 'no thanks' in query:\n",
        "            speak(\"thank u sir for using me.have a good day\")\n",
        "        elif 'tell about sajan' in query:\n",
        "            speak(\"hello world\")\n",
        "sys.exit()"
      ]
    }
  ]
}